{
 "cells": [
  {
   "cell_type": "code",
   "execution_count": 1,
   "id": "8af9dbb7",
   "metadata": {},
   "outputs": [],
   "source": [
    "import pandas as pd\n",
    "import numpy as np\n",
    "import requests\n",
    "import re\n",
    "from bs4 import BeautifulSoup"
   ]
  },
  {
   "cell_type": "code",
   "execution_count": 2,
   "id": "b1b51ee1",
   "metadata": {},
   "outputs": [],
   "source": [
    "turbo=pd.DataFrame()"
   ]
  },
  {
   "cell_type": "code",
   "execution_count": 3,
   "id": "bb61f1c2",
   "metadata": {},
   "outputs": [],
   "source": [
    "for page_num in range(1,100):\n",
    "    url1=f'https://turbo.az/autos?page={page_num}'  \n",
    "    page=requests.get(url1)\n",
    "    html=BeautifulSoup(page.content, 'html.parser')\n",
    "    cars_info=html.find_all('div', class_='products-i__bottom')\n",
    "    \n",
    "    for i in range(len(cars_info)): \n",
    "        try:\n",
    "            information=re.sub('<[^>]+>', ' ', str(cars_info[i]))\n",
    "            price=int(information.split('  ')[1].strip().replace(' ', ''))\n",
    "            currency=information.split('  ')[2]\n",
    "            model=information.split('  ')[4]\n",
    "            year=information.split('  ')[5].split(' ')[0].replace(',', '')\n",
    "            engine=information.split('  ')[5].split(',')[1]\n",
    "            driven=information.split('  ')[5].split(',')[2]\n",
    "            city=information.split('  ')[6].split(',')[0]\n",
    "            date=information.split('  ')[6].split(',')[1].strip()\n",
    "            turbo=turbo.append({\n",
    "                'Model':model,\n",
    "                'Production_year':year,\n",
    "                'Engine':engine,\n",
    "                'Km_driven': driven,\n",
    "                'City':city,\n",
    "                'Date':date,\n",
    "                'Price':price,\n",
    "                'Currency':currency\n",
    "            },ignore_index=True )\n",
    "        except:\n",
    "            continue"
   ]
  },
  {
   "cell_type": "code",
   "execution_count": 4,
   "id": "59796f52",
   "metadata": {
    "scrolled": true
   },
   "outputs": [
    {
     "data": {
      "text/html": [
       "<div>\n",
       "<style scoped>\n",
       "    .dataframe tbody tr th:only-of-type {\n",
       "        vertical-align: middle;\n",
       "    }\n",
       "\n",
       "    .dataframe tbody tr th {\n",
       "        vertical-align: top;\n",
       "    }\n",
       "\n",
       "    .dataframe thead th {\n",
       "        text-align: right;\n",
       "    }\n",
       "</style>\n",
       "<table border=\"1\" class=\"dataframe\">\n",
       "  <thead>\n",
       "    <tr style=\"text-align: right;\">\n",
       "      <th></th>\n",
       "      <th>Model</th>\n",
       "      <th>Production_year</th>\n",
       "      <th>Engine</th>\n",
       "      <th>Km_driven</th>\n",
       "      <th>City</th>\n",
       "      <th>Date</th>\n",
       "      <th>Price</th>\n",
       "      <th>Currency</th>\n",
       "    </tr>\n",
       "  </thead>\n",
       "  <tbody>\n",
       "    <tr>\n",
       "      <th>0</th>\n",
       "      <td>Mercedes G 63 AMG</td>\n",
       "      <td>2013</td>\n",
       "      <td>5.5 L</td>\n",
       "      <td>80 000 km</td>\n",
       "      <td>Bakı</td>\n",
       "      <td>11.09.2022 20:17</td>\n",
       "      <td>82500.0</td>\n",
       "      <td>$</td>\n",
       "    </tr>\n",
       "    <tr>\n",
       "      <th>1</th>\n",
       "      <td>Chevrolet Malibu</td>\n",
       "      <td>2019</td>\n",
       "      <td>1.5 L</td>\n",
       "      <td>48 000 km</td>\n",
       "      <td>Sumqayıt</td>\n",
       "      <td>dünən 12:24</td>\n",
       "      <td>23500.0</td>\n",
       "      <td>AZN</td>\n",
       "    </tr>\n",
       "    <tr>\n",
       "      <th>2</th>\n",
       "      <td>GAZ Biznes 330273</td>\n",
       "      <td>2022</td>\n",
       "      <td>2.7 L</td>\n",
       "      <td>0 km</td>\n",
       "      <td>Bakı</td>\n",
       "      <td>26.08.2022 11:16</td>\n",
       "      <td>43500.0</td>\n",
       "      <td>AZN</td>\n",
       "    </tr>\n",
       "    <tr>\n",
       "      <th>3</th>\n",
       "      <td>Kia Stonic</td>\n",
       "      <td>2022</td>\n",
       "      <td>1.4 L</td>\n",
       "      <td>0 km</td>\n",
       "      <td>Bakı</td>\n",
       "      <td>bugün 10:48</td>\n",
       "      <td>37900.0</td>\n",
       "      <td>AZN</td>\n",
       "    </tr>\n",
       "    <tr>\n",
       "      <th>4</th>\n",
       "      <td>BMW 528</td>\n",
       "      <td>2011</td>\n",
       "      <td>2.0 L</td>\n",
       "      <td>211 000 km</td>\n",
       "      <td>Bakı</td>\n",
       "      <td>09.09.2022 17:39</td>\n",
       "      <td>27400.0</td>\n",
       "      <td>AZN</td>\n",
       "    </tr>\n",
       "    <tr>\n",
       "      <th>...</th>\n",
       "      <td>...</td>\n",
       "      <td>...</td>\n",
       "      <td>...</td>\n",
       "      <td>...</td>\n",
       "      <td>...</td>\n",
       "      <td>...</td>\n",
       "      <td>...</td>\n",
       "      <td>...</td>\n",
       "    </tr>\n",
       "    <tr>\n",
       "      <th>3559</th>\n",
       "      <td>KamAz 5410</td>\n",
       "      <td>1989</td>\n",
       "      <td>11 L</td>\n",
       "      <td>187 000 km</td>\n",
       "      <td>Gəncə</td>\n",
       "      <td>dünən 19:25</td>\n",
       "      <td>11300.0</td>\n",
       "      <td>AZN</td>\n",
       "    </tr>\n",
       "    <tr>\n",
       "      <th>3560</th>\n",
       "      <td>Chevrolet Cruze</td>\n",
       "      <td>2012</td>\n",
       "      <td>1.4 L</td>\n",
       "      <td>295 000 km</td>\n",
       "      <td>Beyləqan</td>\n",
       "      <td>dünən 19:25</td>\n",
       "      <td>13700.0</td>\n",
       "      <td>AZN</td>\n",
       "    </tr>\n",
       "    <tr>\n",
       "      <th>3561</th>\n",
       "      <td>Hyundai i10</td>\n",
       "      <td>2008</td>\n",
       "      <td>1.2 L</td>\n",
       "      <td>186 000 km</td>\n",
       "      <td>Bakı</td>\n",
       "      <td>dünən 19:25</td>\n",
       "      <td>9200.0</td>\n",
       "      <td>AZN</td>\n",
       "    </tr>\n",
       "    <tr>\n",
       "      <th>3562</th>\n",
       "      <td>LADA (VAZ) 2106</td>\n",
       "      <td>1993</td>\n",
       "      <td>1.6 L</td>\n",
       "      <td>193 520 km</td>\n",
       "      <td>Sumqayıt</td>\n",
       "      <td>dünən 19:25</td>\n",
       "      <td>3500.0</td>\n",
       "      <td>AZN</td>\n",
       "    </tr>\n",
       "    <tr>\n",
       "      <th>3563</th>\n",
       "      <td>LADA (VAZ) 2106</td>\n",
       "      <td>2002</td>\n",
       "      <td>1.6 L</td>\n",
       "      <td>102 000 km</td>\n",
       "      <td>Bakı</td>\n",
       "      <td>dünən 19:25</td>\n",
       "      <td>9600.0</td>\n",
       "      <td>AZN</td>\n",
       "    </tr>\n",
       "  </tbody>\n",
       "</table>\n",
       "<p>3564 rows × 8 columns</p>\n",
       "</div>"
      ],
      "text/plain": [
       "                  Model Production_year  Engine    Km_driven      City  \\\n",
       "0     Mercedes G 63 AMG            2013   5.5 L    80 000 km      Bakı   \n",
       "1      Chevrolet Malibu            2019   1.5 L    48 000 km  Sumqayıt   \n",
       "2     GAZ Biznes 330273            2022   2.7 L         0 km      Bakı   \n",
       "3            Kia Stonic            2022   1.4 L         0 km      Bakı   \n",
       "4               BMW 528            2011   2.0 L   211 000 km      Bakı   \n",
       "...                 ...             ...     ...          ...       ...   \n",
       "3559         KamAz 5410            1989    11 L   187 000 km     Gəncə   \n",
       "3560    Chevrolet Cruze            2012   1.4 L   295 000 km  Beyləqan   \n",
       "3561        Hyundai i10            2008   1.2 L   186 000 km      Bakı   \n",
       "3562    LADA (VAZ) 2106            1993   1.6 L   193 520 km  Sumqayıt   \n",
       "3563    LADA (VAZ) 2106            2002   1.6 L   102 000 km      Bakı   \n",
       "\n",
       "                  Date    Price Currency  \n",
       "0     11.09.2022 20:17  82500.0        $  \n",
       "1          dünən 12:24  23500.0      AZN  \n",
       "2     26.08.2022 11:16  43500.0      AZN  \n",
       "3          bugün 10:48  37900.0      AZN  \n",
       "4     09.09.2022 17:39  27400.0      AZN  \n",
       "...                ...      ...      ...  \n",
       "3559       dünən 19:25  11300.0      AZN  \n",
       "3560       dünən 19:25  13700.0      AZN  \n",
       "3561       dünən 19:25   9200.0      AZN  \n",
       "3562       dünən 19:25   3500.0      AZN  \n",
       "3563       dünən 19:25   9600.0      AZN  \n",
       "\n",
       "[3564 rows x 8 columns]"
      ]
     },
     "execution_count": 4,
     "metadata": {},
     "output_type": "execute_result"
    }
   ],
   "source": [
    "turbo"
   ]
  },
  {
   "cell_type": "code",
   "execution_count": 5,
   "id": "48f1db37",
   "metadata": {},
   "outputs": [],
   "source": [
    "url_cur='https://www.cbar.az/'"
   ]
  },
  {
   "cell_type": "code",
   "execution_count": 6,
   "id": "f611b8e1",
   "metadata": {},
   "outputs": [],
   "source": [
    "page1=requests.get(url_cur)"
   ]
  },
  {
   "cell_type": "code",
   "execution_count": 7,
   "id": "f03b9d4a",
   "metadata": {},
   "outputs": [],
   "source": [
    "html1=BeautifulSoup(page1.content, 'html.parser')"
   ]
  },
  {
   "cell_type": "code",
   "execution_count": 8,
   "id": "541b469a",
   "metadata": {},
   "outputs": [],
   "source": [
    "currencies=html1.find_all('div', class_='relize_item')"
   ]
  },
  {
   "cell_type": "code",
   "execution_count": 9,
   "id": "0716b31a",
   "metadata": {},
   "outputs": [],
   "source": [
    "curr=re.sub('<[^>]+>', ' ', str(currencies))"
   ]
  },
  {
   "cell_type": "code",
   "execution_count": 10,
   "id": "a5eeac94",
   "metadata": {},
   "outputs": [],
   "source": [
    "curr_usd=float(curr[curr.find('USD')+5:curr.find('1 EUR')].replace(' ', ''))"
   ]
  },
  {
   "cell_type": "code",
   "execution_count": 11,
   "id": "2b7dd25b",
   "metadata": {},
   "outputs": [],
   "source": [
    "curr_eur=float(curr[curr.find('EUR')+5:curr.find('1 RUB')].replace(' ', ''))"
   ]
  },
  {
   "cell_type": "code",
   "execution_count": 12,
   "id": "f2ff793c",
   "metadata": {},
   "outputs": [
    {
     "data": {
      "text/plain": [
       "float"
      ]
     },
     "execution_count": 12,
     "metadata": {},
     "output_type": "execute_result"
    }
   ],
   "source": [
    "type(curr_usd)"
   ]
  },
  {
   "cell_type": "code",
   "execution_count": 13,
   "id": "2fed906d",
   "metadata": {},
   "outputs": [],
   "source": [
    "turbo['Price in AZN']=np.where(turbo['Currency']=='$', turbo['Price']*curr_usd, np.where(turbo['Currency']=='€', turbo['Price']*curr_eur, turbo['Price']))"
   ]
  },
  {
   "cell_type": "code",
   "execution_count": 14,
   "id": "6876aa5e",
   "metadata": {
    "scrolled": true
   },
   "outputs": [
    {
     "data": {
      "text/html": [
       "<div>\n",
       "<style scoped>\n",
       "    .dataframe tbody tr th:only-of-type {\n",
       "        vertical-align: middle;\n",
       "    }\n",
       "\n",
       "    .dataframe tbody tr th {\n",
       "        vertical-align: top;\n",
       "    }\n",
       "\n",
       "    .dataframe thead th {\n",
       "        text-align: right;\n",
       "    }\n",
       "</style>\n",
       "<table border=\"1\" class=\"dataframe\">\n",
       "  <thead>\n",
       "    <tr style=\"text-align: right;\">\n",
       "      <th></th>\n",
       "      <th>Model</th>\n",
       "      <th>Production_year</th>\n",
       "      <th>Engine</th>\n",
       "      <th>Km_driven</th>\n",
       "      <th>City</th>\n",
       "      <th>Date</th>\n",
       "      <th>Price</th>\n",
       "      <th>Currency</th>\n",
       "      <th>Price in AZN</th>\n",
       "    </tr>\n",
       "  </thead>\n",
       "  <tbody>\n",
       "    <tr>\n",
       "      <th>0</th>\n",
       "      <td>Mercedes G 63 AMG</td>\n",
       "      <td>2013</td>\n",
       "      <td>5.5 L</td>\n",
       "      <td>80 000 km</td>\n",
       "      <td>Bakı</td>\n",
       "      <td>11.09.2022 20:17</td>\n",
       "      <td>82500.0</td>\n",
       "      <td>$</td>\n",
       "      <td>140250.0</td>\n",
       "    </tr>\n",
       "    <tr>\n",
       "      <th>1</th>\n",
       "      <td>Chevrolet Malibu</td>\n",
       "      <td>2019</td>\n",
       "      <td>1.5 L</td>\n",
       "      <td>48 000 km</td>\n",
       "      <td>Sumqayıt</td>\n",
       "      <td>dünən 12:24</td>\n",
       "      <td>23500.0</td>\n",
       "      <td>AZN</td>\n",
       "      <td>23500.0</td>\n",
       "    </tr>\n",
       "    <tr>\n",
       "      <th>2</th>\n",
       "      <td>GAZ Biznes 330273</td>\n",
       "      <td>2022</td>\n",
       "      <td>2.7 L</td>\n",
       "      <td>0 km</td>\n",
       "      <td>Bakı</td>\n",
       "      <td>26.08.2022 11:16</td>\n",
       "      <td>43500.0</td>\n",
       "      <td>AZN</td>\n",
       "      <td>43500.0</td>\n",
       "    </tr>\n",
       "    <tr>\n",
       "      <th>3</th>\n",
       "      <td>Kia Stonic</td>\n",
       "      <td>2022</td>\n",
       "      <td>1.4 L</td>\n",
       "      <td>0 km</td>\n",
       "      <td>Bakı</td>\n",
       "      <td>bugün 10:48</td>\n",
       "      <td>37900.0</td>\n",
       "      <td>AZN</td>\n",
       "      <td>37900.0</td>\n",
       "    </tr>\n",
       "    <tr>\n",
       "      <th>4</th>\n",
       "      <td>BMW 528</td>\n",
       "      <td>2011</td>\n",
       "      <td>2.0 L</td>\n",
       "      <td>211 000 km</td>\n",
       "      <td>Bakı</td>\n",
       "      <td>09.09.2022 17:39</td>\n",
       "      <td>27400.0</td>\n",
       "      <td>AZN</td>\n",
       "      <td>27400.0</td>\n",
       "    </tr>\n",
       "    <tr>\n",
       "      <th>...</th>\n",
       "      <td>...</td>\n",
       "      <td>...</td>\n",
       "      <td>...</td>\n",
       "      <td>...</td>\n",
       "      <td>...</td>\n",
       "      <td>...</td>\n",
       "      <td>...</td>\n",
       "      <td>...</td>\n",
       "      <td>...</td>\n",
       "    </tr>\n",
       "    <tr>\n",
       "      <th>3559</th>\n",
       "      <td>KamAz 5410</td>\n",
       "      <td>1989</td>\n",
       "      <td>11 L</td>\n",
       "      <td>187 000 km</td>\n",
       "      <td>Gəncə</td>\n",
       "      <td>dünən 19:25</td>\n",
       "      <td>11300.0</td>\n",
       "      <td>AZN</td>\n",
       "      <td>11300.0</td>\n",
       "    </tr>\n",
       "    <tr>\n",
       "      <th>3560</th>\n",
       "      <td>Chevrolet Cruze</td>\n",
       "      <td>2012</td>\n",
       "      <td>1.4 L</td>\n",
       "      <td>295 000 km</td>\n",
       "      <td>Beyləqan</td>\n",
       "      <td>dünən 19:25</td>\n",
       "      <td>13700.0</td>\n",
       "      <td>AZN</td>\n",
       "      <td>13700.0</td>\n",
       "    </tr>\n",
       "    <tr>\n",
       "      <th>3561</th>\n",
       "      <td>Hyundai i10</td>\n",
       "      <td>2008</td>\n",
       "      <td>1.2 L</td>\n",
       "      <td>186 000 km</td>\n",
       "      <td>Bakı</td>\n",
       "      <td>dünən 19:25</td>\n",
       "      <td>9200.0</td>\n",
       "      <td>AZN</td>\n",
       "      <td>9200.0</td>\n",
       "    </tr>\n",
       "    <tr>\n",
       "      <th>3562</th>\n",
       "      <td>LADA (VAZ) 2106</td>\n",
       "      <td>1993</td>\n",
       "      <td>1.6 L</td>\n",
       "      <td>193 520 km</td>\n",
       "      <td>Sumqayıt</td>\n",
       "      <td>dünən 19:25</td>\n",
       "      <td>3500.0</td>\n",
       "      <td>AZN</td>\n",
       "      <td>3500.0</td>\n",
       "    </tr>\n",
       "    <tr>\n",
       "      <th>3563</th>\n",
       "      <td>LADA (VAZ) 2106</td>\n",
       "      <td>2002</td>\n",
       "      <td>1.6 L</td>\n",
       "      <td>102 000 km</td>\n",
       "      <td>Bakı</td>\n",
       "      <td>dünən 19:25</td>\n",
       "      <td>9600.0</td>\n",
       "      <td>AZN</td>\n",
       "      <td>9600.0</td>\n",
       "    </tr>\n",
       "  </tbody>\n",
       "</table>\n",
       "<p>3564 rows × 9 columns</p>\n",
       "</div>"
      ],
      "text/plain": [
       "                  Model Production_year  Engine    Km_driven      City  \\\n",
       "0     Mercedes G 63 AMG            2013   5.5 L    80 000 km      Bakı   \n",
       "1      Chevrolet Malibu            2019   1.5 L    48 000 km  Sumqayıt   \n",
       "2     GAZ Biznes 330273            2022   2.7 L         0 km      Bakı   \n",
       "3            Kia Stonic            2022   1.4 L         0 km      Bakı   \n",
       "4               BMW 528            2011   2.0 L   211 000 km      Bakı   \n",
       "...                 ...             ...     ...          ...       ...   \n",
       "3559         KamAz 5410            1989    11 L   187 000 km     Gəncə   \n",
       "3560    Chevrolet Cruze            2012   1.4 L   295 000 km  Beyləqan   \n",
       "3561        Hyundai i10            2008   1.2 L   186 000 km      Bakı   \n",
       "3562    LADA (VAZ) 2106            1993   1.6 L   193 520 km  Sumqayıt   \n",
       "3563    LADA (VAZ) 2106            2002   1.6 L   102 000 km      Bakı   \n",
       "\n",
       "                  Date    Price Currency  Price in AZN  \n",
       "0     11.09.2022 20:17  82500.0        $      140250.0  \n",
       "1          dünən 12:24  23500.0      AZN       23500.0  \n",
       "2     26.08.2022 11:16  43500.0      AZN       43500.0  \n",
       "3          bugün 10:48  37900.0      AZN       37900.0  \n",
       "4     09.09.2022 17:39  27400.0      AZN       27400.0  \n",
       "...                ...      ...      ...           ...  \n",
       "3559       dünən 19:25  11300.0      AZN       11300.0  \n",
       "3560       dünən 19:25  13700.0      AZN       13700.0  \n",
       "3561       dünən 19:25   9200.0      AZN        9200.0  \n",
       "3562       dünən 19:25   3500.0      AZN        3500.0  \n",
       "3563       dünən 19:25   9600.0      AZN        9600.0  \n",
       "\n",
       "[3564 rows x 9 columns]"
      ]
     },
     "execution_count": 14,
     "metadata": {},
     "output_type": "execute_result"
    }
   ],
   "source": [
    "turbo"
   ]
  },
  {
   "cell_type": "code",
   "execution_count": 15,
   "id": "6133775a",
   "metadata": {},
   "outputs": [
    {
     "data": {
      "text/html": [
       "<div>\n",
       "<style scoped>\n",
       "    .dataframe tbody tr th:only-of-type {\n",
       "        vertical-align: middle;\n",
       "    }\n",
       "\n",
       "    .dataframe tbody tr th {\n",
       "        vertical-align: top;\n",
       "    }\n",
       "\n",
       "    .dataframe thead th {\n",
       "        text-align: right;\n",
       "    }\n",
       "</style>\n",
       "<table border=\"1\" class=\"dataframe\">\n",
       "  <thead>\n",
       "    <tr style=\"text-align: right;\">\n",
       "      <th></th>\n",
       "      <th>0</th>\n",
       "      <th>1</th>\n",
       "      <th>2</th>\n",
       "      <th>3</th>\n",
       "      <th>4</th>\n",
       "    </tr>\n",
       "  </thead>\n",
       "  <tbody>\n",
       "    <tr>\n",
       "      <th>0</th>\n",
       "      <td>Mercedes</td>\n",
       "      <td>G</td>\n",
       "      <td>63</td>\n",
       "      <td>AMG</td>\n",
       "      <td>None</td>\n",
       "    </tr>\n",
       "    <tr>\n",
       "      <th>1</th>\n",
       "      <td>Chevrolet</td>\n",
       "      <td>Malibu</td>\n",
       "      <td>None</td>\n",
       "      <td>None</td>\n",
       "      <td>None</td>\n",
       "    </tr>\n",
       "    <tr>\n",
       "      <th>2</th>\n",
       "      <td>GAZ</td>\n",
       "      <td>Biznes</td>\n",
       "      <td>330273</td>\n",
       "      <td>None</td>\n",
       "      <td>None</td>\n",
       "    </tr>\n",
       "    <tr>\n",
       "      <th>3</th>\n",
       "      <td>Kia</td>\n",
       "      <td>Stonic</td>\n",
       "      <td>None</td>\n",
       "      <td>None</td>\n",
       "      <td>None</td>\n",
       "    </tr>\n",
       "    <tr>\n",
       "      <th>4</th>\n",
       "      <td>BMW</td>\n",
       "      <td>528</td>\n",
       "      <td>None</td>\n",
       "      <td>None</td>\n",
       "      <td>None</td>\n",
       "    </tr>\n",
       "    <tr>\n",
       "      <th>...</th>\n",
       "      <td>...</td>\n",
       "      <td>...</td>\n",
       "      <td>...</td>\n",
       "      <td>...</td>\n",
       "      <td>...</td>\n",
       "    </tr>\n",
       "    <tr>\n",
       "      <th>3559</th>\n",
       "      <td>KamAz</td>\n",
       "      <td>5410</td>\n",
       "      <td>None</td>\n",
       "      <td>None</td>\n",
       "      <td>None</td>\n",
       "    </tr>\n",
       "    <tr>\n",
       "      <th>3560</th>\n",
       "      <td>Chevrolet</td>\n",
       "      <td>Cruze</td>\n",
       "      <td>None</td>\n",
       "      <td>None</td>\n",
       "      <td>None</td>\n",
       "    </tr>\n",
       "    <tr>\n",
       "      <th>3561</th>\n",
       "      <td>Hyundai</td>\n",
       "      <td>i10</td>\n",
       "      <td>None</td>\n",
       "      <td>None</td>\n",
       "      <td>None</td>\n",
       "    </tr>\n",
       "    <tr>\n",
       "      <th>3562</th>\n",
       "      <td>LADA</td>\n",
       "      <td>(VAZ)</td>\n",
       "      <td>2106</td>\n",
       "      <td>None</td>\n",
       "      <td>None</td>\n",
       "    </tr>\n",
       "    <tr>\n",
       "      <th>3563</th>\n",
       "      <td>LADA</td>\n",
       "      <td>(VAZ)</td>\n",
       "      <td>2106</td>\n",
       "      <td>None</td>\n",
       "      <td>None</td>\n",
       "    </tr>\n",
       "  </tbody>\n",
       "</table>\n",
       "<p>3564 rows × 5 columns</p>\n",
       "</div>"
      ],
      "text/plain": [
       "              0       1       2     3     4\n",
       "0      Mercedes       G      63   AMG  None\n",
       "1     Chevrolet  Malibu    None  None  None\n",
       "2           GAZ  Biznes  330273  None  None\n",
       "3           Kia  Stonic    None  None  None\n",
       "4           BMW     528    None  None  None\n",
       "...         ...     ...     ...   ...   ...\n",
       "3559      KamAz    5410    None  None  None\n",
       "3560  Chevrolet   Cruze    None  None  None\n",
       "3561    Hyundai     i10    None  None  None\n",
       "3562       LADA   (VAZ)    2106  None  None\n",
       "3563       LADA   (VAZ)    2106  None  None\n",
       "\n",
       "[3564 rows x 5 columns]"
      ]
     },
     "execution_count": 15,
     "metadata": {},
     "output_type": "execute_result"
    }
   ],
   "source": [
    "turbo['Model'].str.split(' ', expand=True)"
   ]
  },
  {
   "cell_type": "code",
   "execution_count": 16,
   "id": "c0665100",
   "metadata": {},
   "outputs": [],
   "source": [
    "turbo['MODEL']=turbo['Model'].str.split(' ', expand=True)[0]"
   ]
  },
  {
   "cell_type": "code",
   "execution_count": 17,
   "id": "107cfc8c",
   "metadata": {},
   "outputs": [],
   "source": [
    "turbo['Model1']=turbo['Model'].str.split(' ', expand=True)[1]"
   ]
  },
  {
   "cell_type": "code",
   "execution_count": 18,
   "id": "daa3c091",
   "metadata": {},
   "outputs": [],
   "source": [
    "turbo['Model1']=np.where(turbo['Model1'].isna(), '', turbo['Model1'])"
   ]
  },
  {
   "cell_type": "code",
   "execution_count": 19,
   "id": "d2f9f7ff",
   "metadata": {},
   "outputs": [],
   "source": [
    "turbo['Model2']=turbo['Model'].str.split(' ', expand=True)[2]"
   ]
  },
  {
   "cell_type": "code",
   "execution_count": 20,
   "id": "ed924af2",
   "metadata": {},
   "outputs": [],
   "source": [
    "turbo['Model2']=np.where(turbo['Model2'].isna(), '', turbo['Model2'])"
   ]
  },
  {
   "cell_type": "code",
   "execution_count": 21,
   "id": "5137c8a3",
   "metadata": {},
   "outputs": [],
   "source": [
    "turbo['Brand']=turbo['Model1']+' '+turbo['Model2']"
   ]
  },
  {
   "cell_type": "code",
   "execution_count": 22,
   "id": "2a9093f9",
   "metadata": {},
   "outputs": [
    {
     "data": {
      "text/plain": [
       "0            G\n",
       "1       Malibu\n",
       "2       Biznes\n",
       "3       Stonic\n",
       "4          528\n",
       "         ...  \n",
       "3559      5410\n",
       "3560     Cruze\n",
       "3561       i10\n",
       "3562     (VAZ)\n",
       "3563     (VAZ)\n",
       "Name: Model1, Length: 3564, dtype: object"
      ]
     },
     "execution_count": 22,
     "metadata": {},
     "output_type": "execute_result"
    }
   ],
   "source": [
    "turbo['Model1']"
   ]
  },
  {
   "cell_type": "code",
   "execution_count": 23,
   "id": "c4047a33",
   "metadata": {},
   "outputs": [
    {
     "data": {
      "text/plain": [
       "0           63\n",
       "1             \n",
       "2       330273\n",
       "3             \n",
       "4             \n",
       "         ...  \n",
       "3559          \n",
       "3560          \n",
       "3561          \n",
       "3562      2106\n",
       "3563      2106\n",
       "Name: Model2, Length: 3564, dtype: object"
      ]
     },
     "execution_count": 23,
     "metadata": {},
     "output_type": "execute_result"
    }
   ],
   "source": [
    "turbo['Model2']"
   ]
  },
  {
   "cell_type": "code",
   "execution_count": 24,
   "id": "544ed470",
   "metadata": {},
   "outputs": [],
   "source": [
    "turbo=turbo.drop(['Model','Model1', 'Model2'], axis=1)"
   ]
  },
  {
   "cell_type": "code",
   "execution_count": 25,
   "id": "86fecd9d",
   "metadata": {},
   "outputs": [],
   "source": [
    "turbo=turbo.rename(columns={'MODEL':'Model'})"
   ]
  },
  {
   "cell_type": "code",
   "execution_count": 26,
   "id": "5d4c1494",
   "metadata": {},
   "outputs": [
    {
     "data": {
      "text/html": [
       "<div>\n",
       "<style scoped>\n",
       "    .dataframe tbody tr th:only-of-type {\n",
       "        vertical-align: middle;\n",
       "    }\n",
       "\n",
       "    .dataframe tbody tr th {\n",
       "        vertical-align: top;\n",
       "    }\n",
       "\n",
       "    .dataframe thead th {\n",
       "        text-align: right;\n",
       "    }\n",
       "</style>\n",
       "<table border=\"1\" class=\"dataframe\">\n",
       "  <thead>\n",
       "    <tr style=\"text-align: right;\">\n",
       "      <th></th>\n",
       "      <th>Production_year</th>\n",
       "      <th>Engine</th>\n",
       "      <th>Km_driven</th>\n",
       "      <th>City</th>\n",
       "      <th>Date</th>\n",
       "      <th>Price</th>\n",
       "      <th>Currency</th>\n",
       "      <th>Price in AZN</th>\n",
       "      <th>Model</th>\n",
       "      <th>Brand</th>\n",
       "    </tr>\n",
       "  </thead>\n",
       "  <tbody>\n",
       "    <tr>\n",
       "      <th>0</th>\n",
       "      <td>2013</td>\n",
       "      <td>5.5 L</td>\n",
       "      <td>80 000 km</td>\n",
       "      <td>Bakı</td>\n",
       "      <td>11.09.2022 20:17</td>\n",
       "      <td>82500.0</td>\n",
       "      <td>$</td>\n",
       "      <td>140250.0</td>\n",
       "      <td>Mercedes</td>\n",
       "      <td>G 63</td>\n",
       "    </tr>\n",
       "    <tr>\n",
       "      <th>1</th>\n",
       "      <td>2019</td>\n",
       "      <td>1.5 L</td>\n",
       "      <td>48 000 km</td>\n",
       "      <td>Sumqayıt</td>\n",
       "      <td>dünən 12:24</td>\n",
       "      <td>23500.0</td>\n",
       "      <td>AZN</td>\n",
       "      <td>23500.0</td>\n",
       "      <td>Chevrolet</td>\n",
       "      <td>Malibu</td>\n",
       "    </tr>\n",
       "    <tr>\n",
       "      <th>2</th>\n",
       "      <td>2022</td>\n",
       "      <td>2.7 L</td>\n",
       "      <td>0 km</td>\n",
       "      <td>Bakı</td>\n",
       "      <td>26.08.2022 11:16</td>\n",
       "      <td>43500.0</td>\n",
       "      <td>AZN</td>\n",
       "      <td>43500.0</td>\n",
       "      <td>GAZ</td>\n",
       "      <td>Biznes 330273</td>\n",
       "    </tr>\n",
       "    <tr>\n",
       "      <th>3</th>\n",
       "      <td>2022</td>\n",
       "      <td>1.4 L</td>\n",
       "      <td>0 km</td>\n",
       "      <td>Bakı</td>\n",
       "      <td>bugün 10:48</td>\n",
       "      <td>37900.0</td>\n",
       "      <td>AZN</td>\n",
       "      <td>37900.0</td>\n",
       "      <td>Kia</td>\n",
       "      <td>Stonic</td>\n",
       "    </tr>\n",
       "    <tr>\n",
       "      <th>4</th>\n",
       "      <td>2011</td>\n",
       "      <td>2.0 L</td>\n",
       "      <td>211 000 km</td>\n",
       "      <td>Bakı</td>\n",
       "      <td>09.09.2022 17:39</td>\n",
       "      <td>27400.0</td>\n",
       "      <td>AZN</td>\n",
       "      <td>27400.0</td>\n",
       "      <td>BMW</td>\n",
       "      <td>528</td>\n",
       "    </tr>\n",
       "    <tr>\n",
       "      <th>...</th>\n",
       "      <td>...</td>\n",
       "      <td>...</td>\n",
       "      <td>...</td>\n",
       "      <td>...</td>\n",
       "      <td>...</td>\n",
       "      <td>...</td>\n",
       "      <td>...</td>\n",
       "      <td>...</td>\n",
       "      <td>...</td>\n",
       "      <td>...</td>\n",
       "    </tr>\n",
       "    <tr>\n",
       "      <th>3559</th>\n",
       "      <td>1989</td>\n",
       "      <td>11 L</td>\n",
       "      <td>187 000 km</td>\n",
       "      <td>Gəncə</td>\n",
       "      <td>dünən 19:25</td>\n",
       "      <td>11300.0</td>\n",
       "      <td>AZN</td>\n",
       "      <td>11300.0</td>\n",
       "      <td>KamAz</td>\n",
       "      <td>5410</td>\n",
       "    </tr>\n",
       "    <tr>\n",
       "      <th>3560</th>\n",
       "      <td>2012</td>\n",
       "      <td>1.4 L</td>\n",
       "      <td>295 000 km</td>\n",
       "      <td>Beyləqan</td>\n",
       "      <td>dünən 19:25</td>\n",
       "      <td>13700.0</td>\n",
       "      <td>AZN</td>\n",
       "      <td>13700.0</td>\n",
       "      <td>Chevrolet</td>\n",
       "      <td>Cruze</td>\n",
       "    </tr>\n",
       "    <tr>\n",
       "      <th>3561</th>\n",
       "      <td>2008</td>\n",
       "      <td>1.2 L</td>\n",
       "      <td>186 000 km</td>\n",
       "      <td>Bakı</td>\n",
       "      <td>dünən 19:25</td>\n",
       "      <td>9200.0</td>\n",
       "      <td>AZN</td>\n",
       "      <td>9200.0</td>\n",
       "      <td>Hyundai</td>\n",
       "      <td>i10</td>\n",
       "    </tr>\n",
       "    <tr>\n",
       "      <th>3562</th>\n",
       "      <td>1993</td>\n",
       "      <td>1.6 L</td>\n",
       "      <td>193 520 km</td>\n",
       "      <td>Sumqayıt</td>\n",
       "      <td>dünən 19:25</td>\n",
       "      <td>3500.0</td>\n",
       "      <td>AZN</td>\n",
       "      <td>3500.0</td>\n",
       "      <td>LADA</td>\n",
       "      <td>(VAZ) 2106</td>\n",
       "    </tr>\n",
       "    <tr>\n",
       "      <th>3563</th>\n",
       "      <td>2002</td>\n",
       "      <td>1.6 L</td>\n",
       "      <td>102 000 km</td>\n",
       "      <td>Bakı</td>\n",
       "      <td>dünən 19:25</td>\n",
       "      <td>9600.0</td>\n",
       "      <td>AZN</td>\n",
       "      <td>9600.0</td>\n",
       "      <td>LADA</td>\n",
       "      <td>(VAZ) 2106</td>\n",
       "    </tr>\n",
       "  </tbody>\n",
       "</table>\n",
       "<p>3564 rows × 10 columns</p>\n",
       "</div>"
      ],
      "text/plain": [
       "     Production_year  Engine    Km_driven      City              Date  \\\n",
       "0               2013   5.5 L    80 000 km      Bakı  11.09.2022 20:17   \n",
       "1               2019   1.5 L    48 000 km  Sumqayıt       dünən 12:24   \n",
       "2               2022   2.7 L         0 km      Bakı  26.08.2022 11:16   \n",
       "3               2022   1.4 L         0 km      Bakı       bugün 10:48   \n",
       "4               2011   2.0 L   211 000 km      Bakı  09.09.2022 17:39   \n",
       "...              ...     ...          ...       ...               ...   \n",
       "3559            1989    11 L   187 000 km     Gəncə       dünən 19:25   \n",
       "3560            2012   1.4 L   295 000 km  Beyləqan       dünən 19:25   \n",
       "3561            2008   1.2 L   186 000 km      Bakı       dünən 19:25   \n",
       "3562            1993   1.6 L   193 520 km  Sumqayıt       dünən 19:25   \n",
       "3563            2002   1.6 L   102 000 km      Bakı       dünən 19:25   \n",
       "\n",
       "        Price Currency  Price in AZN      Model          Brand  \n",
       "0     82500.0        $      140250.0   Mercedes           G 63  \n",
       "1     23500.0      AZN       23500.0  Chevrolet        Malibu   \n",
       "2     43500.0      AZN       43500.0        GAZ  Biznes 330273  \n",
       "3     37900.0      AZN       37900.0        Kia        Stonic   \n",
       "4     27400.0      AZN       27400.0        BMW           528   \n",
       "...       ...      ...           ...        ...            ...  \n",
       "3559  11300.0      AZN       11300.0      KamAz          5410   \n",
       "3560  13700.0      AZN       13700.0  Chevrolet         Cruze   \n",
       "3561   9200.0      AZN        9200.0    Hyundai           i10   \n",
       "3562   3500.0      AZN        3500.0       LADA     (VAZ) 2106  \n",
       "3563   9600.0      AZN        9600.0       LADA     (VAZ) 2106  \n",
       "\n",
       "[3564 rows x 10 columns]"
      ]
     },
     "execution_count": 26,
     "metadata": {},
     "output_type": "execute_result"
    }
   ],
   "source": [
    "turbo"
   ]
  },
  {
   "cell_type": "code",
   "execution_count": 27,
   "id": "556b68ca",
   "metadata": {},
   "outputs": [],
   "source": [
    "turbo['Engine']=turbo['Engine'].str.split(' ', expand=True)[1]"
   ]
  },
  {
   "cell_type": "code",
   "execution_count": 28,
   "id": "9ee0ebaf",
   "metadata": {},
   "outputs": [],
   "source": [
    "turbo['Km_driven']=turbo['Km_driven'].str.replace('km', '').str.replace(' ','')"
   ]
  },
  {
   "cell_type": "code",
   "execution_count": 29,
   "id": "753f5997",
   "metadata": {},
   "outputs": [
    {
     "data": {
      "text/plain": [
       "0        80000\n",
       "1        48000\n",
       "2            0\n",
       "3            0\n",
       "4       211000\n",
       "         ...  \n",
       "3559    187000\n",
       "3560    295000\n",
       "3561    186000\n",
       "3562    193520\n",
       "3563    102000\n",
       "Name: Km_driven, Length: 3564, dtype: object"
      ]
     },
     "execution_count": 29,
     "metadata": {},
     "output_type": "execute_result"
    }
   ],
   "source": [
    "turbo['Km_driven']"
   ]
  },
  {
   "cell_type": "code",
   "execution_count": 30,
   "id": "043274ef",
   "metadata": {},
   "outputs": [],
   "source": [
    "x_data=pd.get_dummies(turbo)"
   ]
  },
  {
   "cell_type": "code",
   "execution_count": 31,
   "id": "0ce93c43",
   "metadata": {},
   "outputs": [],
   "source": [
    "turbo['Engine']=pd.to_numeric(turbo['Engine'])"
   ]
  },
  {
   "cell_type": "code",
   "execution_count": 32,
   "id": "4e051fce",
   "metadata": {},
   "outputs": [],
   "source": [
    "turbo['Km_driven']=pd.to_numeric(turbo['Km_driven'])"
   ]
  },
  {
   "cell_type": "code",
   "execution_count": 33,
   "id": "752a3c60",
   "metadata": {
    "scrolled": false
   },
   "outputs": [
    {
     "data": {
      "text/plain": [
       "Production_year     object\n",
       "Engine             float64\n",
       "Km_driven            int64\n",
       "City                object\n",
       "Date                object\n",
       "Price              float64\n",
       "Currency            object\n",
       "Price in AZN       float64\n",
       "Model               object\n",
       "Brand               object\n",
       "dtype: object"
      ]
     },
     "execution_count": 33,
     "metadata": {},
     "output_type": "execute_result"
    }
   ],
   "source": [
    "turbo.dtypes"
   ]
  },
  {
   "cell_type": "code",
   "execution_count": 34,
   "id": "c459863a",
   "metadata": {},
   "outputs": [
    {
     "data": {
      "text/html": [
       "<div>\n",
       "<style scoped>\n",
       "    .dataframe tbody tr th:only-of-type {\n",
       "        vertical-align: middle;\n",
       "    }\n",
       "\n",
       "    .dataframe tbody tr th {\n",
       "        vertical-align: top;\n",
       "    }\n",
       "\n",
       "    .dataframe thead th {\n",
       "        text-align: right;\n",
       "    }\n",
       "</style>\n",
       "<table border=\"1\" class=\"dataframe\">\n",
       "  <thead>\n",
       "    <tr style=\"text-align: right;\">\n",
       "      <th></th>\n",
       "      <th>Production_year</th>\n",
       "      <th>Engine</th>\n",
       "      <th>Km_driven</th>\n",
       "      <th>City</th>\n",
       "      <th>Date</th>\n",
       "      <th>Price</th>\n",
       "      <th>Currency</th>\n",
       "      <th>Price in AZN</th>\n",
       "      <th>Model</th>\n",
       "      <th>Brand</th>\n",
       "    </tr>\n",
       "  </thead>\n",
       "  <tbody>\n",
       "    <tr>\n",
       "      <th>0</th>\n",
       "      <td>2013</td>\n",
       "      <td>5.5</td>\n",
       "      <td>80000</td>\n",
       "      <td>Bakı</td>\n",
       "      <td>11.09.2022 20:17</td>\n",
       "      <td>82500.0</td>\n",
       "      <td>$</td>\n",
       "      <td>140250.0</td>\n",
       "      <td>Mercedes</td>\n",
       "      <td>G 63</td>\n",
       "    </tr>\n",
       "    <tr>\n",
       "      <th>1</th>\n",
       "      <td>2019</td>\n",
       "      <td>1.5</td>\n",
       "      <td>48000</td>\n",
       "      <td>Sumqayıt</td>\n",
       "      <td>dünən 12:24</td>\n",
       "      <td>23500.0</td>\n",
       "      <td>AZN</td>\n",
       "      <td>23500.0</td>\n",
       "      <td>Chevrolet</td>\n",
       "      <td>Malibu</td>\n",
       "    </tr>\n",
       "    <tr>\n",
       "      <th>2</th>\n",
       "      <td>2022</td>\n",
       "      <td>2.7</td>\n",
       "      <td>0</td>\n",
       "      <td>Bakı</td>\n",
       "      <td>26.08.2022 11:16</td>\n",
       "      <td>43500.0</td>\n",
       "      <td>AZN</td>\n",
       "      <td>43500.0</td>\n",
       "      <td>GAZ</td>\n",
       "      <td>Biznes 330273</td>\n",
       "    </tr>\n",
       "    <tr>\n",
       "      <th>3</th>\n",
       "      <td>2022</td>\n",
       "      <td>1.4</td>\n",
       "      <td>0</td>\n",
       "      <td>Bakı</td>\n",
       "      <td>bugün 10:48</td>\n",
       "      <td>37900.0</td>\n",
       "      <td>AZN</td>\n",
       "      <td>37900.0</td>\n",
       "      <td>Kia</td>\n",
       "      <td>Stonic</td>\n",
       "    </tr>\n",
       "    <tr>\n",
       "      <th>4</th>\n",
       "      <td>2011</td>\n",
       "      <td>2.0</td>\n",
       "      <td>211000</td>\n",
       "      <td>Bakı</td>\n",
       "      <td>09.09.2022 17:39</td>\n",
       "      <td>27400.0</td>\n",
       "      <td>AZN</td>\n",
       "      <td>27400.0</td>\n",
       "      <td>BMW</td>\n",
       "      <td>528</td>\n",
       "    </tr>\n",
       "    <tr>\n",
       "      <th>...</th>\n",
       "      <td>...</td>\n",
       "      <td>...</td>\n",
       "      <td>...</td>\n",
       "      <td>...</td>\n",
       "      <td>...</td>\n",
       "      <td>...</td>\n",
       "      <td>...</td>\n",
       "      <td>...</td>\n",
       "      <td>...</td>\n",
       "      <td>...</td>\n",
       "    </tr>\n",
       "    <tr>\n",
       "      <th>3559</th>\n",
       "      <td>1989</td>\n",
       "      <td>11.0</td>\n",
       "      <td>187000</td>\n",
       "      <td>Gəncə</td>\n",
       "      <td>dünən 19:25</td>\n",
       "      <td>11300.0</td>\n",
       "      <td>AZN</td>\n",
       "      <td>11300.0</td>\n",
       "      <td>KamAz</td>\n",
       "      <td>5410</td>\n",
       "    </tr>\n",
       "    <tr>\n",
       "      <th>3560</th>\n",
       "      <td>2012</td>\n",
       "      <td>1.4</td>\n",
       "      <td>295000</td>\n",
       "      <td>Beyləqan</td>\n",
       "      <td>dünən 19:25</td>\n",
       "      <td>13700.0</td>\n",
       "      <td>AZN</td>\n",
       "      <td>13700.0</td>\n",
       "      <td>Chevrolet</td>\n",
       "      <td>Cruze</td>\n",
       "    </tr>\n",
       "    <tr>\n",
       "      <th>3561</th>\n",
       "      <td>2008</td>\n",
       "      <td>1.2</td>\n",
       "      <td>186000</td>\n",
       "      <td>Bakı</td>\n",
       "      <td>dünən 19:25</td>\n",
       "      <td>9200.0</td>\n",
       "      <td>AZN</td>\n",
       "      <td>9200.0</td>\n",
       "      <td>Hyundai</td>\n",
       "      <td>i10</td>\n",
       "    </tr>\n",
       "    <tr>\n",
       "      <th>3562</th>\n",
       "      <td>1993</td>\n",
       "      <td>1.6</td>\n",
       "      <td>193520</td>\n",
       "      <td>Sumqayıt</td>\n",
       "      <td>dünən 19:25</td>\n",
       "      <td>3500.0</td>\n",
       "      <td>AZN</td>\n",
       "      <td>3500.0</td>\n",
       "      <td>LADA</td>\n",
       "      <td>(VAZ) 2106</td>\n",
       "    </tr>\n",
       "    <tr>\n",
       "      <th>3563</th>\n",
       "      <td>2002</td>\n",
       "      <td>1.6</td>\n",
       "      <td>102000</td>\n",
       "      <td>Bakı</td>\n",
       "      <td>dünən 19:25</td>\n",
       "      <td>9600.0</td>\n",
       "      <td>AZN</td>\n",
       "      <td>9600.0</td>\n",
       "      <td>LADA</td>\n",
       "      <td>(VAZ) 2106</td>\n",
       "    </tr>\n",
       "  </tbody>\n",
       "</table>\n",
       "<p>3564 rows × 10 columns</p>\n",
       "</div>"
      ],
      "text/plain": [
       "     Production_year  Engine  Km_driven      City              Date    Price  \\\n",
       "0               2013     5.5      80000      Bakı  11.09.2022 20:17  82500.0   \n",
       "1               2019     1.5      48000  Sumqayıt       dünən 12:24  23500.0   \n",
       "2               2022     2.7          0      Bakı  26.08.2022 11:16  43500.0   \n",
       "3               2022     1.4          0      Bakı       bugün 10:48  37900.0   \n",
       "4               2011     2.0     211000      Bakı  09.09.2022 17:39  27400.0   \n",
       "...              ...     ...        ...       ...               ...      ...   \n",
       "3559            1989    11.0     187000     Gəncə       dünən 19:25  11300.0   \n",
       "3560            2012     1.4     295000  Beyləqan       dünən 19:25  13700.0   \n",
       "3561            2008     1.2     186000      Bakı       dünən 19:25   9200.0   \n",
       "3562            1993     1.6     193520  Sumqayıt       dünən 19:25   3500.0   \n",
       "3563            2002     1.6     102000      Bakı       dünən 19:25   9600.0   \n",
       "\n",
       "     Currency  Price in AZN      Model          Brand  \n",
       "0           $      140250.0   Mercedes           G 63  \n",
       "1         AZN       23500.0  Chevrolet        Malibu   \n",
       "2         AZN       43500.0        GAZ  Biznes 330273  \n",
       "3         AZN       37900.0        Kia        Stonic   \n",
       "4         AZN       27400.0        BMW           528   \n",
       "...       ...           ...        ...            ...  \n",
       "3559      AZN       11300.0      KamAz          5410   \n",
       "3560      AZN       13700.0  Chevrolet         Cruze   \n",
       "3561      AZN        9200.0    Hyundai           i10   \n",
       "3562      AZN        3500.0       LADA     (VAZ) 2106  \n",
       "3563      AZN        9600.0       LADA     (VAZ) 2106  \n",
       "\n",
       "[3564 rows x 10 columns]"
      ]
     },
     "execution_count": 34,
     "metadata": {},
     "output_type": "execute_result"
    }
   ],
   "source": [
    "turbo"
   ]
  },
  {
   "cell_type": "code",
   "execution_count": 35,
   "id": "5e6c0c28",
   "metadata": {},
   "outputs": [],
   "source": [
    "turbo['Engine']=pd.to_numeric(turbo['Engine'])"
   ]
  },
  {
   "cell_type": "code",
   "execution_count": 36,
   "id": "23005279",
   "metadata": {},
   "outputs": [],
   "source": [
    "turbo['Production_year']=pd.to_datetime(turbo['Production_year']).dt.year"
   ]
  },
  {
   "cell_type": "code",
   "execution_count": 37,
   "id": "152c815c",
   "metadata": {},
   "outputs": [],
   "source": [
    "import sklearn"
   ]
  },
  {
   "cell_type": "code",
   "execution_count": 38,
   "id": "e0d55853",
   "metadata": {
    "scrolled": true
   },
   "outputs": [],
   "source": [
    "X_data=turbo.drop(['Date', 'Currency', 'Price', 'Production_year'], axis=1)"
   ]
  },
  {
   "cell_type": "code",
   "execution_count": 39,
   "id": "ef68778a",
   "metadata": {},
   "outputs": [
    {
     "data": {
      "text/html": [
       "<div>\n",
       "<style scoped>\n",
       "    .dataframe tbody tr th:only-of-type {\n",
       "        vertical-align: middle;\n",
       "    }\n",
       "\n",
       "    .dataframe tbody tr th {\n",
       "        vertical-align: top;\n",
       "    }\n",
       "\n",
       "    .dataframe thead th {\n",
       "        text-align: right;\n",
       "    }\n",
       "</style>\n",
       "<table border=\"1\" class=\"dataframe\">\n",
       "  <thead>\n",
       "    <tr style=\"text-align: right;\">\n",
       "      <th></th>\n",
       "      <th>Engine</th>\n",
       "      <th>Km_driven</th>\n",
       "      <th>City</th>\n",
       "      <th>Price in AZN</th>\n",
       "      <th>Model</th>\n",
       "      <th>Brand</th>\n",
       "    </tr>\n",
       "  </thead>\n",
       "  <tbody>\n",
       "    <tr>\n",
       "      <th>0</th>\n",
       "      <td>5.5</td>\n",
       "      <td>80000</td>\n",
       "      <td>Bakı</td>\n",
       "      <td>140250.0</td>\n",
       "      <td>Mercedes</td>\n",
       "      <td>G 63</td>\n",
       "    </tr>\n",
       "    <tr>\n",
       "      <th>1</th>\n",
       "      <td>1.5</td>\n",
       "      <td>48000</td>\n",
       "      <td>Sumqayıt</td>\n",
       "      <td>23500.0</td>\n",
       "      <td>Chevrolet</td>\n",
       "      <td>Malibu</td>\n",
       "    </tr>\n",
       "    <tr>\n",
       "      <th>2</th>\n",
       "      <td>2.7</td>\n",
       "      <td>0</td>\n",
       "      <td>Bakı</td>\n",
       "      <td>43500.0</td>\n",
       "      <td>GAZ</td>\n",
       "      <td>Biznes 330273</td>\n",
       "    </tr>\n",
       "    <tr>\n",
       "      <th>3</th>\n",
       "      <td>1.4</td>\n",
       "      <td>0</td>\n",
       "      <td>Bakı</td>\n",
       "      <td>37900.0</td>\n",
       "      <td>Kia</td>\n",
       "      <td>Stonic</td>\n",
       "    </tr>\n",
       "    <tr>\n",
       "      <th>4</th>\n",
       "      <td>2.0</td>\n",
       "      <td>211000</td>\n",
       "      <td>Bakı</td>\n",
       "      <td>27400.0</td>\n",
       "      <td>BMW</td>\n",
       "      <td>528</td>\n",
       "    </tr>\n",
       "    <tr>\n",
       "      <th>...</th>\n",
       "      <td>...</td>\n",
       "      <td>...</td>\n",
       "      <td>...</td>\n",
       "      <td>...</td>\n",
       "      <td>...</td>\n",
       "      <td>...</td>\n",
       "    </tr>\n",
       "    <tr>\n",
       "      <th>3559</th>\n",
       "      <td>11.0</td>\n",
       "      <td>187000</td>\n",
       "      <td>Gəncə</td>\n",
       "      <td>11300.0</td>\n",
       "      <td>KamAz</td>\n",
       "      <td>5410</td>\n",
       "    </tr>\n",
       "    <tr>\n",
       "      <th>3560</th>\n",
       "      <td>1.4</td>\n",
       "      <td>295000</td>\n",
       "      <td>Beyləqan</td>\n",
       "      <td>13700.0</td>\n",
       "      <td>Chevrolet</td>\n",
       "      <td>Cruze</td>\n",
       "    </tr>\n",
       "    <tr>\n",
       "      <th>3561</th>\n",
       "      <td>1.2</td>\n",
       "      <td>186000</td>\n",
       "      <td>Bakı</td>\n",
       "      <td>9200.0</td>\n",
       "      <td>Hyundai</td>\n",
       "      <td>i10</td>\n",
       "    </tr>\n",
       "    <tr>\n",
       "      <th>3562</th>\n",
       "      <td>1.6</td>\n",
       "      <td>193520</td>\n",
       "      <td>Sumqayıt</td>\n",
       "      <td>3500.0</td>\n",
       "      <td>LADA</td>\n",
       "      <td>(VAZ) 2106</td>\n",
       "    </tr>\n",
       "    <tr>\n",
       "      <th>3563</th>\n",
       "      <td>1.6</td>\n",
       "      <td>102000</td>\n",
       "      <td>Bakı</td>\n",
       "      <td>9600.0</td>\n",
       "      <td>LADA</td>\n",
       "      <td>(VAZ) 2106</td>\n",
       "    </tr>\n",
       "  </tbody>\n",
       "</table>\n",
       "<p>3564 rows × 6 columns</p>\n",
       "</div>"
      ],
      "text/plain": [
       "      Engine  Km_driven      City  Price in AZN      Model          Brand\n",
       "0        5.5      80000      Bakı      140250.0   Mercedes           G 63\n",
       "1        1.5      48000  Sumqayıt       23500.0  Chevrolet        Malibu \n",
       "2        2.7          0      Bakı       43500.0        GAZ  Biznes 330273\n",
       "3        1.4          0      Bakı       37900.0        Kia        Stonic \n",
       "4        2.0     211000      Bakı       27400.0        BMW           528 \n",
       "...      ...        ...       ...           ...        ...            ...\n",
       "3559    11.0     187000     Gəncə       11300.0      KamAz          5410 \n",
       "3560     1.4     295000  Beyləqan       13700.0  Chevrolet         Cruze \n",
       "3561     1.2     186000      Bakı        9200.0    Hyundai           i10 \n",
       "3562     1.6     193520  Sumqayıt        3500.0       LADA     (VAZ) 2106\n",
       "3563     1.6     102000      Bakı        9600.0       LADA     (VAZ) 2106\n",
       "\n",
       "[3564 rows x 6 columns]"
      ]
     },
     "execution_count": 39,
     "metadata": {},
     "output_type": "execute_result"
    }
   ],
   "source": [
    "X_data"
   ]
  },
  {
   "cell_type": "code",
   "execution_count": 40,
   "id": "4a84bc9b",
   "metadata": {},
   "outputs": [
    {
     "data": {
      "text/plain": [
       "Engine          False\n",
       "Km_driven       False\n",
       "City            False\n",
       "Price in AZN    False\n",
       "Model           False\n",
       "Brand           False\n",
       "dtype: bool"
      ]
     },
     "execution_count": 40,
     "metadata": {},
     "output_type": "execute_result"
    }
   ],
   "source": [
    "X_data.isna().any()"
   ]
  },
  {
   "cell_type": "code",
   "execution_count": 41,
   "id": "545d21b6",
   "metadata": {},
   "outputs": [],
   "source": [
    "X_data['Engine']=X_data['Engine'].fillna(X_data['Engine'].mean())"
   ]
  },
  {
   "cell_type": "code",
   "execution_count": 42,
   "id": "360b10fd",
   "metadata": {},
   "outputs": [],
   "source": [
    "X_data['Km_driven']=X_data['Km_driven'].fillna(X_data['Km_driven'].mean())"
   ]
  },
  {
   "cell_type": "code",
   "execution_count": 43,
   "id": "ec41aae4",
   "metadata": {},
   "outputs": [],
   "source": [
    "X=pd.get_dummies(X_data).values"
   ]
  },
  {
   "cell_type": "code",
   "execution_count": 44,
   "id": "2ac6713e",
   "metadata": {},
   "outputs": [],
   "source": [
    "Y=turbo['Price in AZN'].values"
   ]
  },
  {
   "cell_type": "code",
   "execution_count": 45,
   "id": "a22184b6",
   "metadata": {},
   "outputs": [],
   "source": [
    "from sklearn.model_selection import train_test_split\n",
    "X_train, X_test, Y_train, Y_test=train_test_split(X, Y, test_size=0.2, random_state=0)"
   ]
  },
  {
   "cell_type": "code",
   "execution_count": 46,
   "id": "9f24452b",
   "metadata": {},
   "outputs": [],
   "source": [
    "from sklearn.ensemble import RandomForestRegressor"
   ]
  },
  {
   "cell_type": "code",
   "execution_count": 47,
   "id": "ad1e6211",
   "metadata": {},
   "outputs": [],
   "source": [
    "regressor=RandomForestRegressor()"
   ]
  },
  {
   "cell_type": "code",
   "execution_count": 48,
   "id": "04dbdb72",
   "metadata": {},
   "outputs": [
    {
     "data": {
      "text/plain": [
       "RandomForestRegressor()"
      ]
     },
     "execution_count": 48,
     "metadata": {},
     "output_type": "execute_result"
    }
   ],
   "source": [
    "regressor.fit(X_train, Y_train)"
   ]
  },
  {
   "cell_type": "code",
   "execution_count": 51,
   "id": "575bd138",
   "metadata": {},
   "outputs": [],
   "source": [
    "prediction=regressor.predict(X_test)"
   ]
  },
  {
   "cell_type": "code",
   "execution_count": 52,
   "id": "ba7cfebe",
   "metadata": {},
   "outputs": [
    {
     "data": {
      "text/plain": [
       "array([36540.3 , 20803.5 , 66147.65, 34494.  , 35522.6 ])"
      ]
     },
     "execution_count": 52,
     "metadata": {},
     "output_type": "execute_result"
    }
   ],
   "source": [
    "prediction[:5]"
   ]
  },
  {
   "cell_type": "code",
   "execution_count": 53,
   "id": "c59d32a8",
   "metadata": {},
   "outputs": [
    {
     "data": {
      "text/plain": [
       "array([36600., 20800., 65960., 34500., 35530.])"
      ]
     },
     "execution_count": 53,
     "metadata": {},
     "output_type": "execute_result"
    }
   ],
   "source": [
    "Y_test[:5]"
   ]
  },
  {
   "cell_type": "code",
   "execution_count": 54,
   "id": "384e5cab",
   "metadata": {},
   "outputs": [],
   "source": [
    "from sklearn.metrics import r2_score, mean_squared_error"
   ]
  },
  {
   "cell_type": "code",
   "execution_count": 55,
   "id": "b6ee25bf",
   "metadata": {},
   "outputs": [],
   "source": [
    "score1=r2_score(Y_test, prediction)"
   ]
  },
  {
   "cell_type": "code",
   "execution_count": 56,
   "id": "ae2c0130",
   "metadata": {},
   "outputs": [],
   "source": [
    "score2=np.sqrt(mean_squared_error(Y_test, prediction))"
   ]
  },
  {
   "cell_type": "code",
   "execution_count": 57,
   "id": "a7020d5d",
   "metadata": {},
   "outputs": [
    {
     "data": {
      "text/plain": [
       "0.9992940798846581"
      ]
     },
     "execution_count": 57,
     "metadata": {},
     "output_type": "execute_result"
    }
   ],
   "source": [
    "score1"
   ]
  },
  {
   "cell_type": "code",
   "execution_count": 58,
   "id": "237f252a",
   "metadata": {},
   "outputs": [
    {
     "data": {
      "text/plain": [
       "1422.9751774416302"
      ]
     },
     "execution_count": 58,
     "metadata": {},
     "output_type": "execute_result"
    }
   ],
   "source": [
    "score2"
   ]
  },
  {
   "cell_type": "code",
   "execution_count": 59,
   "id": "f21cc729",
   "metadata": {},
   "outputs": [
    {
     "data": {
      "text/plain": [
       "625600.0"
      ]
     },
     "execution_count": 59,
     "metadata": {},
     "output_type": "execute_result"
    }
   ],
   "source": [
    "turbo['Price in AZN'].max()"
   ]
  },
  {
   "cell_type": "code",
   "execution_count": 61,
   "id": "f2a7df2f",
   "metadata": {},
   "outputs": [
    {
     "data": {
      "text/plain": [
       "1100.0"
      ]
     },
     "execution_count": 61,
     "metadata": {},
     "output_type": "execute_result"
    }
   ],
   "source": [
    "turbo['Price in AZN'].min()"
   ]
  },
  {
   "cell_type": "markdown",
   "id": "01e2b512",
   "metadata": {},
   "source": [
    "### Modeling"
   ]
  },
  {
   "cell_type": "code",
   "execution_count": 67,
   "id": "bcea0859",
   "metadata": {},
   "outputs": [],
   "source": [
    "X_train=turbo.loc[:,['Engine', 'Km_driven', 'City', 'Model','Brand']].values"
   ]
  },
  {
   "cell_type": "code",
   "execution_count": 66,
   "id": "1cea2c5d",
   "metadata": {},
   "outputs": [],
   "source": [
    "Y_train=turbo['Price in AZN'].values"
   ]
  },
  {
   "cell_type": "code",
   "execution_count": 68,
   "id": "a7975600",
   "metadata": {},
   "outputs": [],
   "source": [
    "Engine='1.2'\n",
    "Km_driven=211000\n",
    "City='Bakı'\n",
    "Model='Chevrolet'\n",
    "Brand='Malibu'"
   ]
  },
  {
   "cell_type": "code",
   "execution_count": 69,
   "id": "c8d4a971",
   "metadata": {},
   "outputs": [],
   "source": [
    "test_data=pd.DataFrame()"
   ]
  },
  {
   "cell_type": "code",
   "execution_count": 70,
   "id": "c6b7c3c7",
   "metadata": {},
   "outputs": [],
   "source": [
    "test_data=test_data.append({\n",
    "    'Engine':Engine,\n",
    "    'Km_driven':Km_driven,\n",
    "    'City':City,\n",
    "    'Model':Model,\n",
    "    'Brand':Brand\n",
    "}, ignore_index=True)"
   ]
  },
  {
   "cell_type": "code",
   "execution_count": 71,
   "id": "6f6f1bcb",
   "metadata": {},
   "outputs": [
    {
     "data": {
      "text/html": [
       "<div>\n",
       "<style scoped>\n",
       "    .dataframe tbody tr th:only-of-type {\n",
       "        vertical-align: middle;\n",
       "    }\n",
       "\n",
       "    .dataframe tbody tr th {\n",
       "        vertical-align: top;\n",
       "    }\n",
       "\n",
       "    .dataframe thead th {\n",
       "        text-align: right;\n",
       "    }\n",
       "</style>\n",
       "<table border=\"1\" class=\"dataframe\">\n",
       "  <thead>\n",
       "    <tr style=\"text-align: right;\">\n",
       "      <th></th>\n",
       "      <th>Engine</th>\n",
       "      <th>Km_driven</th>\n",
       "      <th>City</th>\n",
       "      <th>Model</th>\n",
       "      <th>Brand</th>\n",
       "    </tr>\n",
       "  </thead>\n",
       "  <tbody>\n",
       "    <tr>\n",
       "      <th>0</th>\n",
       "      <td>1.2</td>\n",
       "      <td>211000.0</td>\n",
       "      <td>Bakı</td>\n",
       "      <td>Chevrolet</td>\n",
       "      <td>Malibu</td>\n",
       "    </tr>\n",
       "  </tbody>\n",
       "</table>\n",
       "</div>"
      ],
      "text/plain": [
       "  Engine  Km_driven  City      Model   Brand\n",
       "0    1.2   211000.0  Bakı  Chevrolet  Malibu"
      ]
     },
     "execution_count": 71,
     "metadata": {},
     "output_type": "execute_result"
    }
   ],
   "source": [
    "test_data"
   ]
  },
  {
   "cell_type": "code",
   "execution_count": 75,
   "id": "77b7c9a0",
   "metadata": {},
   "outputs": [],
   "source": [
    "X_test=test_data.values"
   ]
  },
  {
   "cell_type": "code",
   "execution_count": 76,
   "id": "60b37205",
   "metadata": {},
   "outputs": [
    {
     "ename": "ValueError",
     "evalue": "could not convert string to float: 'Bakı'",
     "output_type": "error",
     "traceback": [
      "\u001b[1;31m---------------------------------------------------------------------------\u001b[0m",
      "\u001b[1;31mValueError\u001b[0m                                Traceback (most recent call last)",
      "\u001b[1;32m~\\AppData\\Local\\Temp/ipykernel_8652/3436205972.py\u001b[0m in \u001b[0;36m<module>\u001b[1;34m\u001b[0m\n\u001b[1;32m----> 1\u001b[1;33m \u001b[0mregressor\u001b[0m\u001b[1;33m.\u001b[0m\u001b[0mpredict\u001b[0m\u001b[1;33m(\u001b[0m\u001b[0mX_test\u001b[0m\u001b[1;33m)\u001b[0m\u001b[1;33m\u001b[0m\u001b[1;33m\u001b[0m\u001b[0m\n\u001b[0m",
      "\u001b[1;32m~\\anaconda3\\lib\\site-packages\\sklearn\\ensemble\\_forest.py\u001b[0m in \u001b[0;36mpredict\u001b[1;34m(self, X)\u001b[0m\n\u001b[0;32m    782\u001b[0m         \u001b[0mcheck_is_fitted\u001b[0m\u001b[1;33m(\u001b[0m\u001b[0mself\u001b[0m\u001b[1;33m)\u001b[0m\u001b[1;33m\u001b[0m\u001b[1;33m\u001b[0m\u001b[0m\n\u001b[0;32m    783\u001b[0m         \u001b[1;31m# Check data\u001b[0m\u001b[1;33m\u001b[0m\u001b[1;33m\u001b[0m\u001b[0m\n\u001b[1;32m--> 784\u001b[1;33m         \u001b[0mX\u001b[0m \u001b[1;33m=\u001b[0m \u001b[0mself\u001b[0m\u001b[1;33m.\u001b[0m\u001b[0m_validate_X_predict\u001b[0m\u001b[1;33m(\u001b[0m\u001b[0mX\u001b[0m\u001b[1;33m)\u001b[0m\u001b[1;33m\u001b[0m\u001b[1;33m\u001b[0m\u001b[0m\n\u001b[0m\u001b[0;32m    785\u001b[0m \u001b[1;33m\u001b[0m\u001b[0m\n\u001b[0;32m    786\u001b[0m         \u001b[1;31m# Assign chunk of trees to jobs\u001b[0m\u001b[1;33m\u001b[0m\u001b[1;33m\u001b[0m\u001b[0m\n",
      "\u001b[1;32m~\\anaconda3\\lib\\site-packages\\sklearn\\ensemble\\_forest.py\u001b[0m in \u001b[0;36m_validate_X_predict\u001b[1;34m(self, X)\u001b[0m\n\u001b[0;32m    420\u001b[0m         \u001b[0mcheck_is_fitted\u001b[0m\u001b[1;33m(\u001b[0m\u001b[0mself\u001b[0m\u001b[1;33m)\u001b[0m\u001b[1;33m\u001b[0m\u001b[1;33m\u001b[0m\u001b[0m\n\u001b[0;32m    421\u001b[0m \u001b[1;33m\u001b[0m\u001b[0m\n\u001b[1;32m--> 422\u001b[1;33m         \u001b[1;32mreturn\u001b[0m \u001b[0mself\u001b[0m\u001b[1;33m.\u001b[0m\u001b[0mestimators_\u001b[0m\u001b[1;33m[\u001b[0m\u001b[1;36m0\u001b[0m\u001b[1;33m]\u001b[0m\u001b[1;33m.\u001b[0m\u001b[0m_validate_X_predict\u001b[0m\u001b[1;33m(\u001b[0m\u001b[0mX\u001b[0m\u001b[1;33m,\u001b[0m \u001b[0mcheck_input\u001b[0m\u001b[1;33m=\u001b[0m\u001b[1;32mTrue\u001b[0m\u001b[1;33m)\u001b[0m\u001b[1;33m\u001b[0m\u001b[1;33m\u001b[0m\u001b[0m\n\u001b[0m\u001b[0;32m    423\u001b[0m \u001b[1;33m\u001b[0m\u001b[0m\n\u001b[0;32m    424\u001b[0m     \u001b[1;33m@\u001b[0m\u001b[0mproperty\u001b[0m\u001b[1;33m\u001b[0m\u001b[1;33m\u001b[0m\u001b[0m\n",
      "\u001b[1;32m~\\anaconda3\\lib\\site-packages\\sklearn\\tree\\_classes.py\u001b[0m in \u001b[0;36m_validate_X_predict\u001b[1;34m(self, X, check_input)\u001b[0m\n\u001b[0;32m    405\u001b[0m         \u001b[1;34m\"\"\"Validate the training data on predict (probabilities).\"\"\"\u001b[0m\u001b[1;33m\u001b[0m\u001b[1;33m\u001b[0m\u001b[0m\n\u001b[0;32m    406\u001b[0m         \u001b[1;32mif\u001b[0m \u001b[0mcheck_input\u001b[0m\u001b[1;33m:\u001b[0m\u001b[1;33m\u001b[0m\u001b[1;33m\u001b[0m\u001b[0m\n\u001b[1;32m--> 407\u001b[1;33m             X = self._validate_data(X, dtype=DTYPE, accept_sparse=\"csr\",\n\u001b[0m\u001b[0;32m    408\u001b[0m                                     reset=False)\n\u001b[0;32m    409\u001b[0m             if issparse(X) and (X.indices.dtype != np.intc or\n",
      "\u001b[1;32m~\\anaconda3\\lib\\site-packages\\sklearn\\base.py\u001b[0m in \u001b[0;36m_validate_data\u001b[1;34m(self, X, y, reset, validate_separately, **check_params)\u001b[0m\n\u001b[0;32m    419\u001b[0m             \u001b[0mout\u001b[0m \u001b[1;33m=\u001b[0m \u001b[0mX\u001b[0m\u001b[1;33m\u001b[0m\u001b[1;33m\u001b[0m\u001b[0m\n\u001b[0;32m    420\u001b[0m         \u001b[1;32melif\u001b[0m \u001b[0misinstance\u001b[0m\u001b[1;33m(\u001b[0m\u001b[0my\u001b[0m\u001b[1;33m,\u001b[0m \u001b[0mstr\u001b[0m\u001b[1;33m)\u001b[0m \u001b[1;32mand\u001b[0m \u001b[0my\u001b[0m \u001b[1;33m==\u001b[0m \u001b[1;34m'no_validation'\u001b[0m\u001b[1;33m:\u001b[0m\u001b[1;33m\u001b[0m\u001b[1;33m\u001b[0m\u001b[0m\n\u001b[1;32m--> 421\u001b[1;33m             \u001b[0mX\u001b[0m \u001b[1;33m=\u001b[0m \u001b[0mcheck_array\u001b[0m\u001b[1;33m(\u001b[0m\u001b[0mX\u001b[0m\u001b[1;33m,\u001b[0m \u001b[1;33m**\u001b[0m\u001b[0mcheck_params\u001b[0m\u001b[1;33m)\u001b[0m\u001b[1;33m\u001b[0m\u001b[1;33m\u001b[0m\u001b[0m\n\u001b[0m\u001b[0;32m    422\u001b[0m             \u001b[0mout\u001b[0m \u001b[1;33m=\u001b[0m \u001b[0mX\u001b[0m\u001b[1;33m\u001b[0m\u001b[1;33m\u001b[0m\u001b[0m\n\u001b[0;32m    423\u001b[0m         \u001b[1;32melse\u001b[0m\u001b[1;33m:\u001b[0m\u001b[1;33m\u001b[0m\u001b[1;33m\u001b[0m\u001b[0m\n",
      "\u001b[1;32m~\\anaconda3\\lib\\site-packages\\sklearn\\utils\\validation.py\u001b[0m in \u001b[0;36minner_f\u001b[1;34m(*args, **kwargs)\u001b[0m\n\u001b[0;32m     61\u001b[0m             \u001b[0mextra_args\u001b[0m \u001b[1;33m=\u001b[0m \u001b[0mlen\u001b[0m\u001b[1;33m(\u001b[0m\u001b[0margs\u001b[0m\u001b[1;33m)\u001b[0m \u001b[1;33m-\u001b[0m \u001b[0mlen\u001b[0m\u001b[1;33m(\u001b[0m\u001b[0mall_args\u001b[0m\u001b[1;33m)\u001b[0m\u001b[1;33m\u001b[0m\u001b[1;33m\u001b[0m\u001b[0m\n\u001b[0;32m     62\u001b[0m             \u001b[1;32mif\u001b[0m \u001b[0mextra_args\u001b[0m \u001b[1;33m<=\u001b[0m \u001b[1;36m0\u001b[0m\u001b[1;33m:\u001b[0m\u001b[1;33m\u001b[0m\u001b[1;33m\u001b[0m\u001b[0m\n\u001b[1;32m---> 63\u001b[1;33m                 \u001b[1;32mreturn\u001b[0m \u001b[0mf\u001b[0m\u001b[1;33m(\u001b[0m\u001b[1;33m*\u001b[0m\u001b[0margs\u001b[0m\u001b[1;33m,\u001b[0m \u001b[1;33m**\u001b[0m\u001b[0mkwargs\u001b[0m\u001b[1;33m)\u001b[0m\u001b[1;33m\u001b[0m\u001b[1;33m\u001b[0m\u001b[0m\n\u001b[0m\u001b[0;32m     64\u001b[0m \u001b[1;33m\u001b[0m\u001b[0m\n\u001b[0;32m     65\u001b[0m             \u001b[1;31m# extra_args > 0\u001b[0m\u001b[1;33m\u001b[0m\u001b[1;33m\u001b[0m\u001b[0m\n",
      "\u001b[1;32m~\\anaconda3\\lib\\site-packages\\sklearn\\utils\\validation.py\u001b[0m in \u001b[0;36mcheck_array\u001b[1;34m(array, accept_sparse, accept_large_sparse, dtype, order, copy, force_all_finite, ensure_2d, allow_nd, ensure_min_samples, ensure_min_features, estimator)\u001b[0m\n\u001b[0;32m    671\u001b[0m                     \u001b[0marray\u001b[0m \u001b[1;33m=\u001b[0m \u001b[0marray\u001b[0m\u001b[1;33m.\u001b[0m\u001b[0mastype\u001b[0m\u001b[1;33m(\u001b[0m\u001b[0mdtype\u001b[0m\u001b[1;33m,\u001b[0m \u001b[0mcasting\u001b[0m\u001b[1;33m=\u001b[0m\u001b[1;34m\"unsafe\"\u001b[0m\u001b[1;33m,\u001b[0m \u001b[0mcopy\u001b[0m\u001b[1;33m=\u001b[0m\u001b[1;32mFalse\u001b[0m\u001b[1;33m)\u001b[0m\u001b[1;33m\u001b[0m\u001b[1;33m\u001b[0m\u001b[0m\n\u001b[0;32m    672\u001b[0m                 \u001b[1;32melse\u001b[0m\u001b[1;33m:\u001b[0m\u001b[1;33m\u001b[0m\u001b[1;33m\u001b[0m\u001b[0m\n\u001b[1;32m--> 673\u001b[1;33m                     \u001b[0marray\u001b[0m \u001b[1;33m=\u001b[0m \u001b[0mnp\u001b[0m\u001b[1;33m.\u001b[0m\u001b[0masarray\u001b[0m\u001b[1;33m(\u001b[0m\u001b[0marray\u001b[0m\u001b[1;33m,\u001b[0m \u001b[0morder\u001b[0m\u001b[1;33m=\u001b[0m\u001b[0morder\u001b[0m\u001b[1;33m,\u001b[0m \u001b[0mdtype\u001b[0m\u001b[1;33m=\u001b[0m\u001b[0mdtype\u001b[0m\u001b[1;33m)\u001b[0m\u001b[1;33m\u001b[0m\u001b[1;33m\u001b[0m\u001b[0m\n\u001b[0m\u001b[0;32m    674\u001b[0m             \u001b[1;32mexcept\u001b[0m \u001b[0mComplexWarning\u001b[0m \u001b[1;32mas\u001b[0m \u001b[0mcomplex_warning\u001b[0m\u001b[1;33m:\u001b[0m\u001b[1;33m\u001b[0m\u001b[1;33m\u001b[0m\u001b[0m\n\u001b[0;32m    675\u001b[0m                 raise ValueError(\"Complex data not supported\\n\"\n",
      "\u001b[1;32m~\\anaconda3\\lib\\site-packages\\numpy\\core\\_asarray.py\u001b[0m in \u001b[0;36masarray\u001b[1;34m(a, dtype, order, like)\u001b[0m\n\u001b[0;32m    100\u001b[0m         \u001b[1;32mreturn\u001b[0m \u001b[0m_asarray_with_like\u001b[0m\u001b[1;33m(\u001b[0m\u001b[0ma\u001b[0m\u001b[1;33m,\u001b[0m \u001b[0mdtype\u001b[0m\u001b[1;33m=\u001b[0m\u001b[0mdtype\u001b[0m\u001b[1;33m,\u001b[0m \u001b[0morder\u001b[0m\u001b[1;33m=\u001b[0m\u001b[0morder\u001b[0m\u001b[1;33m,\u001b[0m \u001b[0mlike\u001b[0m\u001b[1;33m=\u001b[0m\u001b[0mlike\u001b[0m\u001b[1;33m)\u001b[0m\u001b[1;33m\u001b[0m\u001b[1;33m\u001b[0m\u001b[0m\n\u001b[0;32m    101\u001b[0m \u001b[1;33m\u001b[0m\u001b[0m\n\u001b[1;32m--> 102\u001b[1;33m     \u001b[1;32mreturn\u001b[0m \u001b[0marray\u001b[0m\u001b[1;33m(\u001b[0m\u001b[0ma\u001b[0m\u001b[1;33m,\u001b[0m \u001b[0mdtype\u001b[0m\u001b[1;33m,\u001b[0m \u001b[0mcopy\u001b[0m\u001b[1;33m=\u001b[0m\u001b[1;32mFalse\u001b[0m\u001b[1;33m,\u001b[0m \u001b[0morder\u001b[0m\u001b[1;33m=\u001b[0m\u001b[0morder\u001b[0m\u001b[1;33m)\u001b[0m\u001b[1;33m\u001b[0m\u001b[1;33m\u001b[0m\u001b[0m\n\u001b[0m\u001b[0;32m    103\u001b[0m \u001b[1;33m\u001b[0m\u001b[0m\n\u001b[0;32m    104\u001b[0m \u001b[1;33m\u001b[0m\u001b[0m\n",
      "\u001b[1;31mValueError\u001b[0m: could not convert string to float: 'Bakı'"
     ]
    }
   ],
   "source": [
    "regressor.predict(X_test)"
   ]
  },
  {
   "cell_type": "code",
   "execution_count": null,
   "id": "13395355",
   "metadata": {},
   "outputs": [],
   "source": []
  },
  {
   "cell_type": "code",
   "execution_count": null,
   "id": "2f7851a1",
   "metadata": {},
   "outputs": [],
   "source": []
  }
 ],
 "metadata": {
  "kernelspec": {
   "display_name": "Python 3 (ipykernel)",
   "language": "python",
   "name": "python3"
  },
  "language_info": {
   "codemirror_mode": {
    "name": "ipython",
    "version": 3
   },
   "file_extension": ".py",
   "mimetype": "text/x-python",
   "name": "python",
   "nbconvert_exporter": "python",
   "pygments_lexer": "ipython3",
   "version": "3.9.7"
  }
 },
 "nbformat": 4,
 "nbformat_minor": 5
}
